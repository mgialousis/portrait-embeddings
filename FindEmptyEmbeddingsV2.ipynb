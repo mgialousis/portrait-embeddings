{
 "cells": [
  {
   "cell_type": "code",
   "execution_count": null,
   "id": "initial_id",
   "metadata": {},
   "outputs": [],
   "source": [
    "import os\n",
    "import numpy as np\n",
    "import re\n",
    "from pathlib import Path\n",
    "from collections import defaultdict\n",
    "\n",
    "WINDOWS = os.name == 'nt'\n",
    "INPUT_DIR = Path('W:/Portrait/Embeddings/Portrait Transcripts' if WINDOWS\n",
    "                 else '/Volumes/mgialou/Portrait/Embeddings/Portrait Transcripts')\n",
    "OUTPUT_DIR = INPUT_DIR / 'embeddings'\n",
    "print(f\"Scanning for embeddings in: {OUTPUT_DIR}\")\n",
    "\n",
    "# data holders\n",
    "all_emb = defaultdict(lambda: defaultdict(list))\n",
    "empty_paths = defaultdict(lambda: defaultdict(list))\n",
    "RX = re.compile(r'^(?:\\d+_)?(.+?)(?:_EMPTY)?$')\n",
    "\n",
    "for npy in OUTPUT_DIR.rglob('*.npy'):\n",
    "    model_id = npy.parent.name\n",
    "    stem = npy.stem\n",
    "    qname = RX.match(stem).group(1)\n",
    "    if stem.endswith('_EMPTY'):\n",
    "        # record for later imputation\n",
    "        empty_paths[model_id][qname].append(npy)\n",
    "    else:\n",
    "        try:\n",
    "            arr = np.load(npy)\n",
    "            if arr.size:\n",
    "                all_emb[model_id][qname].append(arr.ravel())\n",
    "        except Exception as e:\n",
    "            print(f\"Warning loading {npy}: {e}\")\n",
    "\n",
    "# report empties\n",
    "total_empty = sum(len(v2) for v1 in empty_paths.values() for v2 in v1.values())\n",
    "print(f\"\\nFound {total_empty} EMPTY.npy files\\n\")\n",
    "\n",
    "# impute\n",
    "imputed = 0\n",
    "for model, questions in empty_paths.items():\n",
    "    for qname, paths in questions.items():\n",
    "        emb_list = all_emb[model].get(qname)\n",
    "        if emb_list:\n",
    "            mean_vec = np.mean(emb_list, axis=0)\n",
    "            for p in paths:\n",
    "                try:\n",
    "                    np.save(p, mean_vec)\n",
    "                    imputed += 1\n",
    "                    print(f\"Imputed {p}\")\n",
    "                except Exception as e:\n",
    "                    print(f\"Error saving {p}: {e}\")\n",
    "        else:\n",
    "            print(f\"No non-empty embeddings for {model}/{qname}, skipping {len(paths)} files\")\n",
    "\n",
    "print(f\"\\nImputation complete: {imputed} files overwritten.\")"
   ]
  }
 ],
 "metadata": {
  "kernelspec": {
   "display_name": "Python 3",
   "language": "python",
   "name": "python3"
  },
  "language_info": {
   "codemirror_mode": {
    "name": "ipython",
    "version": 2
   },
   "file_extension": ".py",
   "mimetype": "text/x-python",
   "name": "python",
   "nbconvert_exporter": "python",
   "pygments_lexer": "ipython2"
  }
 },
 "nbformat": 4,
 "nbformat_minor": 5
}
