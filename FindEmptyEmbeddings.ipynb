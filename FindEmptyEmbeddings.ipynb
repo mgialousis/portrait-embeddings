{
 "cells": [
  {
   "cell_type": "code",
   "execution_count": null,
   "id": "initial_id",
   "metadata": {},
   "outputs": [],
   "source": [
    "import os\n",
    "from collections import defaultdict\n",
    "\n",
    "WINDOWS = os.name == 'nt'\n",
    "\n",
    "# Base directories\n",
    "if WINDOWS:\n",
    "    INPUT_DIR = 'W:/Portrait/Embeddings/Portrait Transcripts'\n",
    "else:\n",
    "    # For linux\n",
    "    INPUT_DIR = '/Volumes/mgialou/Portrait/Embeddings/Portrait Transcripts'\n",
    "\n",
    "OUTPUT_BASE_DIR = os.path.join(INPUT_DIR, 'embeddings')\n",
    "\n",
    "empty_embeddings = defaultdict(lambda: defaultdict(list))\n",
    "total_empty_count = 0\n",
    "print(OUTPUT_BASE_DIR)\n",
    "# Walk through OUTPUT_BASE_DIR\n",
    "for root, _, files in os.walk(OUTPUT_BASE_DIR):\n",
    "    for file in files:\n",
    "        if file.endswith('EMPTY.npy'):\n",
    "            file_path = os.path.join(root, file)\n",
    "            user_id = os.path.basename(os.path.dirname(os.path.dirname(file_path)))\n",
    "            model_id = os.path.basename(os.path.dirname(file_path))\n",
    "\n",
    "            # Record the empty file\n",
    "            empty_embeddings[user_id][model_id].append(file_path)\n",
    "            total_empty_count += 1\n",
    "\n",
    "# Display results\n",
    "print(\"\\nEmpty Embedding Files by User ID and Model:\")\n",
    "for user_id, models in empty_embeddings.items():\n",
    "    print(f\"\\nUser ID: {user_id}\")\n",
    "    for model_id, files in models.items():\n",
    "        print(f\"  Model: {model_id}\")\n",
    "        for file_path in files:\n",
    "            print(f\"    {file_path}\")\n",
    "\n",
    "print(f\"\\nTotal Empty Embeddings: {total_empty_count}\")"
   ]
  },
  {
   "cell_type": "code",
   "execution_count": null,
   "id": "c8fb6820-933f-42cf-a2d9-5f88850c3b99",
   "metadata": {},
   "outputs": [],
   "source": []
  }
 ],
 "metadata": {
  "kernelspec": {
   "display_name": "Python 3 (ipykernel)",
   "language": "python",
   "name": "python3"
  },
  "language_info": {
   "codemirror_mode": {
    "name": "ipython",
    "version": 3
   },
   "file_extension": ".py",
   "mimetype": "text/x-python",
   "name": "python",
   "nbconvert_exporter": "python",
   "pygments_lexer": "ipython3",
   "version": "3.10.18"
  }
 },
 "nbformat": 4,
 "nbformat_minor": 5
}
